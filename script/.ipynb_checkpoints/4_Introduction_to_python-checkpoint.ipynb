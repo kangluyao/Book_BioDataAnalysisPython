{
 "cells": [
  {
   "cell_type": "markdown",
   "id": "f7bad36f-913a-4584-9c7a-ac83d3e9e233",
   "metadata": {},
   "source": [
    "# 4 Introduction to python"
   ]
  },
  {
   "cell_type": "code",
   "execution_count": 10,
   "id": "397a90fb-6ee9-4e08-9a11-d46b70be8f17",
   "metadata": {},
   "outputs": [],
   "source": [
    "## 4.1 Variables\n",
    "x = 3\n",
    "y = 5.1 + 10.4\n",
    "z = \"hello\"\n",
    "number_of_genes = 3821  # longer names\n",
    "species_name = \"Mycobacterium lepraemurium\"\n",
    "treatment1 = \"no antibiotics\"\n",
    "treatment2 = \"with antibiotics\""
   ]
  },
  {
   "cell_type": "code",
   "execution_count": 11,
   "id": "b97eee76-92af-443b-8d1e-3e2894e01a74",
   "metadata": {},
   "outputs": [
    {
     "name": "stdout",
     "output_type": "stream",
     "text": [
      "4050260\n"
     ]
    }
   ],
   "source": [
    "#Spaces and other non-alphanumeric characters (except underscores) are not allowed in variable names\n",
    "number_of_genes = 3821\n",
    "average_gene_size = 1060\n",
    "genome_size = number_of_genes * average_gene_size\n",
    "print(genome_size)"
   ]
  },
  {
   "cell_type": "code",
   "execution_count": 12,
   "id": "49c97643-ae32-41e2-a3a2-20f3aa5d0bc9",
   "metadata": {},
   "outputs": [
    {
     "name": "stdout",
     "output_type": "stream",
     "text": [
      "15 15 30\n"
     ]
    }
   ],
   "source": [
    "## Exercise 1\n",
    "x = 3\n",
    "y = x * 5\n",
    "x = y\n",
    "z = x * 2\n",
    "print(x, y, z)"
   ]
  },
  {
   "cell_type": "code",
   "execution_count": 13,
   "id": "95263caa-1ab6-4de0-824d-9f623b14d3f8",
   "metadata": {},
   "outputs": [
    {
     "name": "stdout",
     "output_type": "stream",
     "text": [
      "2.0\n"
     ]
    }
   ],
   "source": [
    "## Exercise 2\n",
    "### 1\n",
    "number_of_cells = 2000\n",
    "cell_volume = 0.001\n",
    "total_volume = number_of_cells * cell_volume\n",
    "print(total_volume)"
   ]
  },
  {
   "cell_type": "code",
   "execution_count": 14,
   "id": "657d6953-61ae-4d12-a6c6-de4f9240f7cc",
   "metadata": {},
   "outputs": [
    {
     "ename": "SyntaxError",
     "evalue": "invalid syntax (298955328.py, line 2)",
     "output_type": "error",
     "traceback": [
      "\u001b[1;36m  Cell \u001b[1;32mIn [14], line 2\u001b[1;36m\u001b[0m\n\u001b[1;33m    number of cells = 2000  # variable name with whitespace\u001b[0m\n\u001b[1;37m           ^\u001b[0m\n\u001b[1;31mSyntaxError\u001b[0m\u001b[1;31m:\u001b[0m invalid syntax\n"
     ]
    }
   ],
   "source": [
    "### 2\n",
    "number of cells = 2000  # variable name with whitespace\n",
    "cell_volume = 0.001\n",
    "total_volume = number_of_cells * cell_volume"
   ]
  },
  {
   "cell_type": "code",
   "execution_count": 15,
   "id": "7f4d9a4e-ffa9-464a-aa6f-203d09d86960",
   "metadata": {},
   "outputs": [
    {
     "ename": "SyntaxError",
     "evalue": "cannot assign to literal (2156027238.py, line 2)",
     "output_type": "error",
     "traceback": [
      "\u001b[1;36m  Cell \u001b[1;32mIn [15], line 2\u001b[1;36m\u001b[0m\n\u001b[1;33m    2000 = number_of_cells  # cannot assign to literal\u001b[0m\n\u001b[1;37m    ^\u001b[0m\n\u001b[1;31mSyntaxError\u001b[0m\u001b[1;31m:\u001b[0m cannot assign to literal\n"
     ]
    }
   ],
   "source": [
    "### 3\n",
    "2000 = number_of_cells  # cannot assign to literal\n",
    "cell_volume = 0.001\n",
    "total_volume = number_of_cells * cell_volume"
   ]
  },
  {
   "cell_type": "code",
   "execution_count": 16,
   "id": "53b28e54-7b37-4ef5-a579-58ce0aa1f68d",
   "metadata": {},
   "outputs": [
    {
     "name": "stdout",
     "output_type": "stream",
     "text": [
      "3 7 6 1.5 3.375\n"
     ]
    }
   ],
   "source": [
    "# 4.4 Mathematical operations\n",
    "x = 3\n",
    "y = x + 4 # this assigns the value 3+4=7 to the variable y\n",
    "z = y - 1 # this assigns the value 7-1=6 to the variable z\n",
    "w = z / 4 # this assigns the value 6/4=1.5 to the variable w\n",
    "q = w ** 3 # raise w to the power of 3 and assign the result to q\n",
    "print(x, y, z, w, q)"
   ]
  },
  {
   "cell_type": "code",
   "execution_count": 17,
   "id": "984f28ad-0222-4544-a013-c9aedf812f64",
   "metadata": {},
   "outputs": [
    {
     "name": "stdout",
     "output_type": "stream",
     "text": [
      "3 1.0 0.0\n"
     ]
    }
   ],
   "source": [
    "# / performs true devision, // perform integer division.\n",
    "A = 14 // 4 # this assigns the value 3 to A\n",
    "B = 6.5 // 4 # this assigns the value 1 to B\n",
    "C = 0.5 // 4 # this assigns the value 0 to C\n",
    "print(A, B, C)"
   ]
  },
  {
   "cell_type": "code",
   "execution_count": 18,
   "id": "4b9714e6-7725-4de0-83d9-a97823999833",
   "metadata": {},
   "outputs": [
    {
     "name": "stdout",
     "output_type": "stream",
     "text": [
      "1 0\n"
     ]
    }
   ],
   "source": [
    "# % computes the remainder of integer division\n",
    "r1 = 5 % 2 # this assigns the value 5 modulo 2 = 1 to the variable r1\n",
    "r2 = 5 % 5 # this assigns the value 5 modulo 5 = 0 to the variable r2\n",
    "print(r1, r2)"
   ]
  },
  {
   "cell_type": "code",
   "execution_count": 19,
   "id": "bb68fb50-e4ae-4c07-bdab-ff6c9bcc24ed",
   "metadata": {},
   "outputs": [
    {
     "name": "stdout",
     "output_type": "stream",
     "text": [
      "7 1 15 0.3\n"
     ]
    }
   ],
   "source": [
    "# add/subtract a value from an existing variable, or simply want to increase/\n",
    "# decrease it by some factor\n",
    "x1 = 3\n",
    "x2 = 3\n",
    "x3 = 3\n",
    "x4 = 3\n",
    "x1 += 4 # increment x by 4 and assign the result back to x1\n",
    "x2 -= 2 # subtract 2 from x and assign the result back to x2\n",
    "x3 *= 5 # multiply x by 5 and assign the result back to x3\n",
    "x4 /= 10 # divide x by 10 and assign the result back to x4\n",
    "print(x1, x2, x3, x4)"
   ]
  },
  {
   "cell_type": "code",
   "execution_count": 20,
   "id": "3e5238ee-5bc3-48eb-baf5-8148735f9be9",
   "metadata": {},
   "outputs": [
    {
     "name": "stdout",
     "output_type": "stream",
     "text": [
      "-1 1000 1999.6666666666667\n"
     ]
    }
   ],
   "source": [
    "# combine several mathematical operations\n",
    "x = 4 + 5 - 10\n",
    "y = 10 ** 3\n",
    "z = y*2 + x/3\n",
    "print(x, y, z)"
   ]
  },
  {
   "cell_type": "code",
   "execution_count": 21,
   "id": "940182af-0a8a-4477-b9e4-b1458854e23f",
   "metadata": {},
   "outputs": [
    {
     "name": "stdout",
     "output_type": "stream",
     "text": [
      "666.3333333333334\n"
     ]
    }
   ],
   "source": [
    "z = (y*2 + x)/3\n",
    "print(z)"
   ]
  },
  {
   "cell_type": "code",
   "execution_count": 22,
   "id": "d94088fd-878d-4471-99a6-573f0de6374a",
   "metadata": {},
   "outputs": [
    {
     "name": "stdout",
     "output_type": "stream",
     "text": [
      "(0.4999999996194067+0.8660254040041743j)\n",
      "(0.4999999996194067+0.8660254040041743j)\n"
     ]
    }
   ],
   "source": [
    "# complex mathematical expressions into multiple stages using parentheses or intermediate variables\n",
    "f = x**(y + 3 * z**2)\n",
    "print(f)\n",
    "# or as follows:\n",
    "exponent = y + 3 * z**2\n",
    "f = x ** exponent\n",
    "print(f)"
   ]
  },
  {
   "cell_type": "code",
   "execution_count": 23,
   "id": "f278fd5f-e32e-445f-971e-99fee2980f02",
   "metadata": {},
   "outputs": [
    {
     "name": "stdout",
     "output_type": "stream",
     "text": [
      "3.0 3\n"
     ]
    }
   ],
   "source": [
    "# Integers vs. decimals (Floating point)\n",
    "X = 3.0\n",
    "N = 3\n",
    "print(X, N)"
   ]
  },
  {
   "cell_type": "code",
   "execution_count": 24,
   "id": "5cf4ecd2-cba4-4546-a2d9-117d34d798c6",
   "metadata": {},
   "outputs": [
    {
     "name": "stdout",
     "output_type": "stream",
     "text": [
      "3.0\n",
      "3\n"
     ]
    }
   ],
   "source": [
    "# convert float to an integer\n",
    "N = int(X)\n",
    "print(X)\n",
    "print(N)"
   ]
  },
  {
   "cell_type": "code",
   "execution_count": 25,
   "id": "dbf2ffa9-3f0b-428e-a232-2e8bb1a1fea0",
   "metadata": {},
   "outputs": [
    {
     "name": "stdout",
     "output_type": "stream",
     "text": [
      "10.0\n"
     ]
    }
   ],
   "source": [
    "# Exercise 4\n",
    "F = 50\n",
    "C = (F - 32) * 5 / 9\n",
    "print(C)"
   ]
  },
  {
   "cell_type": "code",
   "execution_count": 26,
   "id": "d8395bef-0ae0-4563-a054-c9e5d4590366",
   "metadata": {},
   "outputs": [
    {
     "data": {
      "text/plain": [
       "2265.1169256841754"
      ]
     },
     "execution_count": 26,
     "metadata": {},
     "output_type": "execute_result"
    }
   ],
   "source": [
    "# Exercise 5\n",
    "x = 5\n",
    "y = 2.1\n",
    "z = 4.6\n",
    "(x + y ** (2 * z + x)) / (100 * (x + y**3)) + x * z**4"
   ]
  },
  {
   "cell_type": "code",
   "execution_count": 27,
   "id": "07bf2de2-bf67-4be9-954c-fbc3ecd10dae",
   "metadata": {},
   "outputs": [
    {
     "name": "stdout",
     "output_type": "stream",
     "text": [
      "50625\n"
     ]
    }
   ],
   "source": [
    "# Exercise 6\n",
    "year = 5\n",
    "expected_adult_plants = 15 **(year-1)\n",
    "print(expected_adult_plants)"
   ]
  },
  {
   "cell_type": "code",
   "execution_count": 28,
   "id": "67b1cd72-d934-47c0-9233-eedce20c5321",
   "metadata": {},
   "outputs": [
    {
     "name": "stdout",
     "output_type": "stream",
     "text": [
      "Hello world\n",
      "Help on built-in function print in module builtins:\n",
      "\n",
      "print(...)\n",
      "    print(value, ..., sep=' ', end='\\n', file=sys.stdout, flush=False)\n",
      "    \n",
      "    Prints the values to a stream, or to sys.stdout by default.\n",
      "    Optional keyword arguments:\n",
      "    file:  a file-like object (stream); defaults to the current sys.stdout.\n",
      "    sep:   string inserted between values, default a space.\n",
      "    end:   string appended after the last value, default a newline.\n",
      "    flush: whether to forcibly flush the stream.\n",
      "\n",
      "The smallest number is: 5\n",
      "The largest number is: 98\n",
      "243\n"
     ]
    },
    {
     "ename": "FileNotFoundError",
     "evalue": "[Errno 2] No such file or directory: 'documents/some_text_file.txt'",
     "output_type": "error",
     "traceback": [
      "\u001b[1;31m---------------------------------------------------------------------------\u001b[0m",
      "\u001b[1;31mFileNotFoundError\u001b[0m                         Traceback (most recent call last)",
      "Cell \u001b[1;32mIn [28], line 16\u001b[0m\n\u001b[0;32m     13\u001b[0m \u001b[38;5;28mprint\u001b[39m(\u001b[38;5;28mabs\u001b[39m(\u001b[38;5;241m55\u001b[39m\u001b[38;5;241m-\u001b[39m\u001b[38;5;241m298\u001b[39m))\n\u001b[0;32m     15\u001b[0m \u001b[38;5;66;03m#read txt file\u001b[39;00m\n\u001b[1;32m---> 16\u001b[0m fin \u001b[38;5;241m=\u001b[39m \u001b[38;5;28;43mopen\u001b[39;49m\u001b[43m(\u001b[49m\u001b[38;5;124;43m\"\u001b[39;49m\u001b[38;5;124;43mdocuments/some_text_file.txt\u001b[39;49m\u001b[38;5;124;43m\"\u001b[39;49m\u001b[43m,\u001b[49m\u001b[43m \u001b[49m\u001b[38;5;124;43m\"\u001b[39;49m\u001b[38;5;124;43mrt\u001b[39;49m\u001b[38;5;124;43m\"\u001b[39;49m\u001b[43m)\u001b[49m\n\u001b[0;32m     17\u001b[0m contents \u001b[38;5;241m=\u001b[39m fin\u001b[38;5;241m.\u001b[39mread()\n\u001b[0;32m     18\u001b[0m fin\u001b[38;5;241m.\u001b[39mclose()\n",
      "\u001b[1;31mFileNotFoundError\u001b[0m: [Errno 2] No such file or directory: 'documents/some_text_file.txt'"
     ]
    }
   ],
   "source": [
    "\n",
    "# 4.5 Functions\n",
    "print(\"Hello world\")\n",
    "help(print)\n",
    "y = abs(x)\n",
    "\n",
    "# Multiple arguments must be separated by commas.\n",
    "smallest_number = min(10, 5, 98)\n",
    "largest_number = max(10, 5, 98)\n",
    "print(\"The smallest number is:\",smallest_number)\n",
    "print(\"The largest number is:\",largest_number)\n",
    "\n",
    "# nest multiple functions and mathematical expressions\n",
    "print(abs(55-298))\n",
    "\n",
    "#read txt file\n",
    "fin = open(\"documents/some_text_file.txt\", \"rt\")\n",
    "contents = fin.read()\n",
    "fin.close()\n",
    "\n",
    "# Exercise 7:\n",
    "elephant_masses = [114, 91, 98, 109, 91, 104, 125, 128, 93, 106, 134, 118]\n",
    "smallest_calf = min(elephant_masses)\n",
    "largest_calf = max(elephant_masses)\n",
    "difference = abs(largest_calf - smallest_calf)\n",
    "print(\"the mass of the smallest calf is\", smallest_calf)\n",
    "print(\"the mass of the largest calf is\", largest_calf)\n",
    "print(\"the mass difference between the smallest and largest calf is\", difference)\n"
   ]
  },
  {
   "cell_type": "code",
   "execution_count": 29,
   "id": "64ccd40c-f054-4d97-a8e0-865b33e3dd8d",
   "metadata": {},
   "outputs": [
    {
     "name": "stdout",
     "output_type": "stream",
     "text": [
      "1.6487212707001282\n",
      "76.4073002289257\n",
      "73.19021000088149\n",
      "2718281.828459045 54598150.033144236\n",
      "0.6801389617347752 0.7330832099634681 4765.203312811945\n"
     ]
    }
   ],
   "source": [
    "# 4.6 Using functions provided by modules and packages\n",
    "# import module or package into python session\n",
    "import math  # common mathematical functions\n",
    "E = math.exp(0.5)  # To call a function from a specific module we use the module and function names, separated by a dot.\n",
    "print(E)\n",
    "\n",
    "import numpy  # more sophisticated mathematical functions\n",
    "r = numpy.random.uniform(0, 100)\n",
    "print(r)\n",
    "# load the parts of a package that we actually need\n",
    "from numpy import linalg, random\n",
    "r = random.uniform(0, 100)\n",
    "print(r)\n",
    "\n",
    "# Exercise 8\n",
    "N0 = 10**6\n",
    "r = 0.2\n",
    "N5 = N0 * math.exp(r * 5)\n",
    "N20 = N0 * math.exp(r * 20)\n",
    "print(N5, N20)\n",
    "\n",
    "# Exercise 9\n",
    "import math\n",
    "x1 = 127.483226\n",
    "y1 = 51.866239\n",
    "x2 = 103.487167\n",
    "y2 = 19.685403\n",
    "A = ((math.cos(y2) * math.sin(abs(x1 - x2)))**2 + (math.cos(y1) * math.sin(y2) - math.sin(y1) * math.cos(y2) * math.cos(abs(x1 - x2)))**2)**0.5\n",
    "B = math.sin(y1) * math.sin(y2) + math.cos(y1) * math.cos(y2) * math.cos(abs(x1 - x2))\n",
    "R = 6371\n",
    "D = R * math.atan2(A, B)\n",
    "print(A, B, D)\n"
   ]
  },
  {
   "cell_type": "code",
   "execution_count": null,
   "id": "b4e85a3f-a2eb-40af-bf51-faf5cfa5e941",
   "metadata": {},
   "outputs": [],
   "source": [
    "# 4.7 Strings\n",
    "# assigns a species name to a variable\n",
    "full_species_name = \"Escherichia coli\"  # valid syntax\n",
    "full_species_name = Escherichia coli  # invalid syntax\n",
    "\n",
    "# concatenate strings using the addition symbol\n",
    "genus_name = \"Escherichia\"\n",
    "species_name = \"coli\"\n",
    "full_species_name = genus_name + \" \" + species_name\n",
    "print(full_species_name)\n",
    "\n",
    "# repeats the string n times\n",
    "codon = \"CTA\"\n",
    "multiple_codons = codon * 10\n",
    "print(multiple_codons)\n",
    "\n",
    "# extracts characters from a string as a new string and prints it\n",
    "genus_abbrev = genus_name[0:5]\n",
    "print(genus_abbrev)\n",
    "\n",
    "segment = genus_name[2:6]\n",
    "print(segment)\n",
    "\n",
    "first_character = genus_name[0]\n",
    "print(first_character)\n",
    "\n",
    "# prints out all but the last two characters\n",
    "print(genus_name[0:-2])\n",
    "# prints out the last character\n",
    "print(genus_name[-1])\n",
    "\n",
    "print(float(\"1.5\") + float(\"2.0\"))\n",
    "print(int(\"1\") + int(\"4\"))\n",
    "\n",
    "# Exercise 10\n",
    "aminoacid_sequence = \"ARNDARCLFPTVTSO\"\n",
    "print(aminoacid_sequence[3:6])  # 0 is first character, the [] 左闭右开\n",
    "print(aminoacid_sequence[1:-1])\n",
    "print(aminoacid_sequence[-2])\n",
    "\n",
    "# Exercise 11\n",
    "x = \"10\" + 5  # invalid syntax\n",
    "x = 10 + 5 + \"20\"  # invalid\n",
    "x = float(5) + \"10\"  # invalid\n",
    "x = float(\"5\") + 10  # valid, 15\n",
    "x = \"1\" + \"2\" + 3  # invalid\n",
    "x = \"10\" + \"5\"  # invalid\n",
    "x = 1 + 2 + 3  # valid\n",
    "\"x\" = \"10\"  # invalid\n",
    "\"10\" + \"5\" = x  # invalid\n",
    "x = int(\"4.5\") + 1  # invalid\n",
    "x = int(\"4\") + 1  # valid\n",
    "x = \"3 + 4  # invalid\n",
    "\n",
    "# 4.7.2 Counting substring occurrences\n"
   ]
  },
  {
   "cell_type": "code",
   "execution_count": 31,
   "id": "741c23d4-65e9-41bb-8147-2295406d8038",
   "metadata": {},
   "outputs": [
    {
     "name": "stdout",
     "output_type": "stream",
     "text": [
      "Collecting package metadata (current_repodata.json): ...working... failed\n",
      "\n",
      "Note: you may need to restart the kernel to use updated packages.\n"
     ]
    },
    {
     "name": "stderr",
     "output_type": "stream",
     "text": [
      "\n",
      "CondaSSLError: Encountered an SSL error. Most likely a certificate verification issue.\n",
      "\n",
      "Exception: HTTPSConnectionPool(host='conda.anaconda.org', port=443): Max retries exceeded with url: /conda-forge/win-64/current_repodata.json (Caused by SSLError(SSLEOFError(8, 'EOF occurred in violation of protocol (_ssl.c:1131)')))\n",
      "\n",
      "\n"
     ]
    }
   ],
   "source": [
    "%conda install -c conda-forge r-irkernel"
   ]
  },
  {
   "cell_type": "code",
   "execution_count": null,
   "id": "cd90f5c7-07fb-4866-8279-65f8ba917ca6",
   "metadata": {},
   "outputs": [],
   "source": []
  }
 ],
 "metadata": {
  "kernelspec": {
   "display_name": "Python 3 (ipykernel)",
   "language": "python",
   "name": "python3"
  },
  "language_info": {
   "codemirror_mode": {
    "name": "ipython",
    "version": 3
   },
   "file_extension": ".py",
   "mimetype": "text/x-python",
   "name": "python",
   "nbconvert_exporter": "python",
   "pygments_lexer": "ipython3",
   "version": "3.8.13"
  }
 },
 "nbformat": 4,
 "nbformat_minor": 5
}
